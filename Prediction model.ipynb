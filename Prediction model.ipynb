{
 "cells": [
  {
   "cell_type": "markdown",
   "metadata": {},
   "source": [
    "# Machine learning models"
   ]
  },
  {
   "cell_type": "code",
   "execution_count": 1,
   "metadata": {
    "collapsed": false
   },
   "outputs": [],
   "source": [
    "import numpy as np\n",
    "import pandas as pd\n",
    "import matplotlib.pyplot as plt \n",
    "from sklearn.model_selection import train_test_split, GridSearchCV, cross_val_score\n",
    "from sklearn.feature_selection import VarianceThreshold\n",
    "from sklearn.linear_model import LogisticRegression\n",
    "from sklearn.ensemble import RandomForestClassifier, GradientBoostingClassifier\n",
    "from sklearn.metrics import classification_report, confusion_matrix, accuracy_score, roc_auc_score\n",
    "from sklearn.svm import SVC\n",
    "from sklearn.tree import DecisionTreeClassifier\n",
    "from xgboost import XGBClassifier\n",
    "from sklearn.neural_network import MLPClassifier"
   ]
  },
  {
   "cell_type": "code",
   "execution_count": 2,
   "metadata": {
    "collapsed": false
   },
   "outputs": [],
   "source": [
    "relation = pd.read_csv('relation.csv', index_col=0)"
   ]
  },
  {
   "cell_type": "code",
   "execution_count": 3,
   "metadata": {
    "collapsed": false
   },
   "outputs": [],
   "source": [
    "relation = relation.apply(lambda x: x.astype('category'))\n",
    "relation['mh_leave_request'] = relation['mh_leave_request'].cat.as_ordered()"
   ]
  },
  {
   "cell_type": "code",
   "execution_count": 4,
   "metadata": {
    "collapsed": false
   },
   "outputs": [],
   "source": [
    "col_names = ['company_size', 'tech_company', 'enterprise_mh_benefit',\n",
    "       'enterprise_mh_options', 'enterprise_mh_emphasis',\n",
    "       'enterprise_offer_resources', 'anonymity_protection',\n",
    "       'mh_leave_request', 'family_history',\n",
    "       'gender', 'remote', 'age_class']\n",
    "X = relation[col_names]\n",
    "y = relation['diagnosed']\n"
   ]
  },
  {
   "cell_type": "code",
   "execution_count": 5,
   "metadata": {
    "collapsed": false
   },
   "outputs": [],
   "source": [
    "# to fit the model which cannot recognize string.\n",
    "y = y.replace('Yes', 1)\n",
    "y = y.replace('No', 0)"
   ]
  },
  {
   "cell_type": "code",
   "execution_count": 6,
   "metadata": {
    "collapsed": false
   },
   "outputs": [],
   "source": [
    "X = pd.get_dummies(X, drop_first=True)"
   ]
  },
  {
   "cell_type": "code",
   "execution_count": 7,
   "metadata": {
    "collapsed": true
   },
   "outputs": [],
   "source": [
    "X_train, X_test, y_train, y_test = train_test_split(X, y, test_size=0.3, random_state=123)"
   ]
  },
  {
   "cell_type": "code",
   "execution_count": 8,
   "metadata": {
    "collapsed": false
   },
   "outputs": [
    {
     "data": {
      "text/plain": [
       "0    175\n",
       "1    169\n",
       "Name: diagnosed, dtype: int64"
      ]
     },
     "execution_count": 8,
     "metadata": {},
     "output_type": "execute_result"
    }
   ],
   "source": [
    "# checking target label distribution in test part.\n",
    "y_test.value_counts()"
   ]
  },
  {
   "cell_type": "code",
   "execution_count": 9,
   "metadata": {
    "collapsed": false
   },
   "outputs": [],
   "source": [
    "names = ['SVC', 'Logistic Regression', 'RandomForestClassifier', 'Decision Tree', 'GradientBoostingClassifier', 'XG Boost']\n",
    "models = [SVC(), LogisticRegression(), RandomForestClassifier(), DecisionTreeClassifier(), \\\n",
    "         GradientBoostingClassifier(), XGBClassifier()]\n",
    "model_dict = dict(zip(models, names))\n"
   ]
  },
  {
   "cell_type": "code",
   "execution_count": 10,
   "metadata": {
    "collapsed": true
   },
   "outputs": [],
   "source": [
    "def model_fit(model, X_train, y_train):\n",
    "    model.fit(X_train, y_train)\n",
    "    train_score = roc_auc_score(y_train, model.predict(X_train))\n",
    "    test_score = roc_auc_score(y_test, model.predict(X_test))\n",
    "    return (train_score, test_score)"
   ]
  },
  {
   "cell_type": "code",
   "execution_count": 11,
   "metadata": {
    "collapsed": true
   },
   "outputs": [],
   "source": [
    "def model_search_report(X_train, y_train):\n",
    "    \n",
    "    # prepare scores\n",
    "    train_scores = {}\n",
    "    test_scores = {}\n",
    "    for model, name in model_dict.items():\n",
    "        train_score, test_score = model_fit(model, X_train, y_train)\n",
    "        train_scores[name] = train_score\n",
    "        test_scores[name] = test_score\n",
    "        \n",
    "    # prepare reports\n",
    "    report = pd.DataFrame()\n",
    "    report['model'] = names\n",
    "    report['train_score'] = train_scores.values()\n",
    "    report['test_score'] = test_scores.values()\n",
    "    \n",
    "    print(report.sort_values(by='test_score'))\n",
    "    "
   ]
  },
  {
   "cell_type": "code",
   "execution_count": 12,
   "metadata": {
    "collapsed": false
   },
   "outputs": [
    {
     "name": "stdout",
     "output_type": "stream",
     "text": [
      "                        model  train_score  test_score\n",
      "3               Decision Tree     0.998744    0.570448\n",
      "2      RandomForestClassifier     0.976243    0.627895\n",
      "5                    XG Boost     0.785748    0.667067\n",
      "4  GradientBoostingClassifier     0.791973    0.669620\n",
      "0                         SVC     0.695669    0.706661\n",
      "1         Logistic Regression     0.724414    0.721860\n"
     ]
    }
   ],
   "source": [
    "model_search_report(X_train, y_train)"
   ]
  },
  {
   "cell_type": "markdown",
   "metadata": {},
   "source": [
    "** Logistic Regression gives the best prediction model. XG Boost need some numerical value for classification prediction. So it doesn't show a good result."
   ]
  },
  {
   "cell_type": "markdown",
   "metadata": {},
   "source": [
    "### RandomForest for feature importance using default parameters."
   ]
  },
  {
   "cell_type": "code",
   "execution_count": 13,
   "metadata": {
    "collapsed": true
   },
   "outputs": [],
   "source": [
    "features = X.columns"
   ]
  },
  {
   "cell_type": "code",
   "execution_count": 14,
   "metadata": {
    "collapsed": false
   },
   "outputs": [],
   "source": [
    "rf = RandomForestClassifier()"
   ]
  },
  {
   "cell_type": "code",
   "execution_count": 15,
   "metadata": {
    "collapsed": false
   },
   "outputs": [
    {
     "data": {
      "text/plain": [
       "RandomForestClassifier(bootstrap=True, class_weight=None, criterion='gini',\n",
       "            max_depth=None, max_features='auto', max_leaf_nodes=None,\n",
       "            min_impurity_decrease=0.0, min_impurity_split=None,\n",
       "            min_samples_leaf=1, min_samples_split=2,\n",
       "            min_weight_fraction_leaf=0.0, n_estimators=10, n_jobs=1,\n",
       "            oob_score=False, random_state=None, verbose=0,\n",
       "            warm_start=False)"
      ]
     },
     "execution_count": 15,
     "metadata": {},
     "output_type": "execute_result"
    }
   ],
   "source": [
    "rf.fit(X_train, y_train)"
   ]
  },
  {
   "cell_type": "code",
   "execution_count": 16,
   "metadata": {
    "collapsed": true
   },
   "outputs": [],
   "source": [
    "importances = rf.feature_importances_"
   ]
  },
  {
   "cell_type": "code",
   "execution_count": 17,
   "metadata": {
    "collapsed": false
   },
   "outputs": [],
   "source": [
    "indices = np.argsort(importances)"
   ]
  },
  {
   "cell_type": "code",
   "execution_count": 18,
   "metadata": {
    "collapsed": false
   },
   "outputs": [
    {
     "data": {
      "text/plain": [
       "<matplotlib.figure.Figure at 0x114648320>"
      ]
     },
     "metadata": {},
     "output_type": "display_data"
    },
    {
     "data": {
      "image/png": "[encoded data removed]",
      "text/plain": [
       "<matplotlib.figure.Figure at 0x1146482e8>"
      ]
     },
     "metadata": {},
     "output_type": "display_data"
    }
   ],
   "source": [
    "plt.clf()\n",
    "plt.subplots(figsize=(12, 8))\n",
    "plt.barh(range(len(rf.feature_importances_)), importances[indices])\n",
    "plt.yticks(np.arange(len(features)), features[indices], fontsize=11)\n",
    "plt.show()"
   ]
  },
  {
   "cell_type": "markdown",
   "metadata": {},
   "source": [
    "### XG boost for feature importances"
   ]
  },
  {
   "cell_type": "code",
   "execution_count": 19,
   "metadata": {
    "collapsed": false
   },
   "outputs": [
    {
     "data": {
      "text/plain": [
       "XGBClassifier(base_score=0.5, booster='gbtree', colsample_bylevel=1,\n",
       "       colsample_bytree=1, gamma=0, learning_rate=0.1, max_delta_step=0,\n",
       "       max_depth=3, min_child_weight=1, missing=None, n_estimators=100,\n",
       "       n_jobs=1, nthread=None, objective='binary:logistic', random_state=0,\n",
       "       reg_alpha=0, reg_lambda=1, scale_pos_weight=1, seed=None,\n",
       "       silent=True, subsample=1)"
      ]
     },
     "execution_count": 19,
     "metadata": {},
     "output_type": "execute_result"
    }
   ],
   "source": [
    "xgb = XGBClassifier()\n",
    "xgb.fit(X_train, y_train)"
   ]
  },
  {
   "cell_type": "code",
   "execution_count": 20,
   "metadata": {
    "collapsed": false,
    "scrolled": true
   },
   "outputs": [],
   "source": [
    "importances = xgb.feature_importances_\n",
    "indices = np.argsort(importances)"
   ]
  },
  {
   "cell_type": "code",
   "execution_count": 21,
   "metadata": {
    "collapsed": false
   },
   "outputs": [
    {
     "data": {
      "text/plain": [
       "<matplotlib.figure.Figure at 0x11775ea90>"
      ]
     },
     "metadata": {},
     "output_type": "display_data"
    },
    {
     "data": {
      "image/png": "[encoded data removed]",
      "text/plain": [
       "<matplotlib.figure.Figure at 0x11775eb00>"
      ]
     },
     "metadata": {},
     "output_type": "display_data"
    }
   ],
   "source": [
    "plt.clf()\n",
    "plt.subplots(figsize=(12, 8))\n",
    "plt.barh(range(len(features)), importances[indices])\n",
    "plt.yticks(np.arange(len(features)), features[indices], fontsize=11)\n",
    "plt.show()"
   ]
  },
  {
   "cell_type": "markdown",
   "metadata": {},
   "source": [
    "** Also XGBoost doesn't show the meaningful feature importances."
   ]
  },
  {
   "cell_type": "markdown",
   "metadata": {},
   "source": [
    "### LogisticRegression brute-force feature search"
   ]
  },
  {
   "cell_type": "code",
   "execution_count": 22,
   "metadata": {
    "collapsed": false
   },
   "outputs": [
    {
     "name": "stdout",
     "output_type": "stream",
     "text": [
      "[[ 0.04191744  0.42110412  0.33012099  0.11597203  0.34292759  0.06838387\n",
      "   0.14249913  0.25349752 -0.52709156  0.87211907  0.30695257  0.10320851\n",
      "  -0.01168611  0.0037555  -0.31511343 -0.16491673 -0.34739122 -0.02581699\n",
      "   0.06693441  0.07456306  0.25986664 -0.69629289  1.02578569  0.79231512\n",
      "  -0.45345661  0.03559118  0.37531696 -0.1001807  -0.10420026 -0.07107747\n",
      "  -0.21289858]]\n"
     ]
    }
   ],
   "source": [
    "logreg = LogisticRegression()\n",
    "logreg.fit(X_train, y_train)\n",
    "print(logreg.coef_)"
   ]
  },
  {
   "cell_type": "code",
   "execution_count": 23,
   "metadata": {
    "collapsed": false,
    "scrolled": true
   },
   "outputs": [
    {
     "name": "stdout",
     "output_type": "stream",
     "text": [
      "                          col_name     score\n",
      "22              family_history_Yes  1.025786\n",
      "9        enterprise_mh_options_Yes  0.872119\n",
      "23        gender_Genderqueer/Other  0.792315\n",
      "1                   company_size_3  0.421104\n",
      "26                remote_Sometimes  0.375317\n",
      "4                   company_size_6  0.342928\n",
      "2                   company_size_4  0.330121\n",
      "10       enterprise_mh_emphasis_No  0.306953\n",
      "20              mh_leave_request_5  0.259867\n",
      "7        enterprise_mh_benefit_Yes  0.253498\n",
      "6         enterprise_mh_benefit_No  0.142499\n",
      "3                   company_size_5  0.115972\n",
      "11      enterprise_mh_emphasis_Yes  0.103209\n",
      "19              mh_leave_request_4  0.074563\n",
      "5                 tech_company_1.0  0.068384\n",
      "18              mh_leave_request_3  0.066934\n",
      "0                   company_size_2  0.041917\n",
      "25                    remote_Never  0.035591\n",
      "13  enterprise_offer_resources_Yes  0.003756\n",
      "12   enterprise_offer_resources_No -0.011686\n",
      "17              mh_leave_request_2 -0.025817\n",
      "29                     age_class_4 -0.071077\n",
      "27                     age_class_2 -0.100181\n",
      "28                     age_class_3 -0.104200\n",
      "15        anonymity_protection_Yes -0.164917\n",
      "30                     age_class_5 -0.212899\n",
      "14         anonymity_protection_No -0.315113\n",
      "16              mh_leave_request_1 -0.347391\n",
      "24                     gender_Male -0.453457\n",
      "8         enterprise_mh_options_No -0.527092\n",
      "21               family_history_No -0.696293\n"
     ]
    }
   ],
   "source": [
    "score = logreg.coef_[0].tolist()\n",
    "coef = pd.DataFrame()\n",
    "coef['col_name'] = X.columns\n",
    "coef['score'] = score\n",
    "print(coef.sort_values(by='score', ascending=False))"
   ]
  },
  {
   "cell_type": "code",
   "execution_count": 24,
   "metadata": {
    "collapsed": false
   },
   "outputs": [],
   "source": [
    "# extract all random feature combination groups\n",
    "feature_bag = {}\n",
    "index = 1\n",
    "n = len(col_names)\n",
    "for i in range(n):\n",
    "    n_features = i + 1   \n",
    "    if (n_features <= n):       \n",
    "        \n",
    "        for j in range(n - i):\n",
    "            features = []\n",
    "            for m in range(n_features):\n",
    "                features.append(col_names[j + m])\n",
    "            feature_bag[index] = features\n",
    "            index += 1   \n"
   ]
  },
  {
   "cell_type": "code",
   "execution_count": 25,
   "metadata": {
    "collapsed": false,
    "scrolled": true
   },
   "outputs": [],
   "source": [
    "# collect different feature group roc_auc score\n",
    "train_scores = {}\n",
    "test_scores = {}\n",
    "for key, val in feature_bag.items():\n",
    "    data = relation[val]\n",
    "    data = pd.get_dummies(data, drop_first=True)\n",
    "    X_train, X_test, y_train, y_test = train_test_split(data, y, test_size=0.3, random_state=123)\n",
    "    logreg.fit(X_train, y_train)\n",
    "    train_scores[key] = roc_auc_score(y_train, logreg.predict(X_train))\n",
    "    test_scores[key] = roc_auc_score(y_test, logreg.predict(X_test))\n"
   ]
  },
  {
   "cell_type": "code",
   "execution_count": 26,
   "metadata": {
    "collapsed": false,
    "scrolled": true
   },
   "outputs": [
    {
     "data": {
      "text/html": [
       "<div>\n",
       "<table border=\"1\" class=\"dataframe\">\n",
       "  <thead>\n",
       "    <tr style=\"text-align: right;\">\n",
       "      <th></th>\n",
       "      <th>train_scores</th>\n",
       "      <th>test_scores</th>\n",
       "    </tr>\n",
       "  </thead>\n",
       "  <tbody>\n",
       "    <tr>\n",
       "      <th>39</th>\n",
       "      <td>0.689537</td>\n",
       "      <td>0.741961</td>\n",
       "    </tr>\n",
       "    <tr>\n",
       "      <th>47</th>\n",
       "      <td>0.694543</td>\n",
       "      <td>0.733390</td>\n",
       "    </tr>\n",
       "    <tr>\n",
       "      <th>65</th>\n",
       "      <td>0.713276</td>\n",
       "      <td>0.724818</td>\n",
       "    </tr>\n",
       "    <tr>\n",
       "      <th>78</th>\n",
       "      <td>0.724414</td>\n",
       "      <td>0.721860</td>\n",
       "    </tr>\n",
       "    <tr>\n",
       "      <th>76</th>\n",
       "      <td>0.723177</td>\n",
       "      <td>0.721860</td>\n",
       "    </tr>\n",
       "    <tr>\n",
       "      <th>68</th>\n",
       "      <td>0.700862</td>\n",
       "      <td>0.721758</td>\n",
       "    </tr>\n",
       "    <tr>\n",
       "      <th>62</th>\n",
       "      <td>0.703375</td>\n",
       "      <td>0.721758</td>\n",
       "    </tr>\n",
       "    <tr>\n",
       "      <th>56</th>\n",
       "      <td>0.699606</td>\n",
       "      <td>0.721555</td>\n",
       "    </tr>\n",
       "    <tr>\n",
       "      <th>69</th>\n",
       "      <td>0.719501</td>\n",
       "      <td>0.718800</td>\n",
       "    </tr>\n",
       "    <tr>\n",
       "      <th>63</th>\n",
       "      <td>0.700862</td>\n",
       "      <td>0.718698</td>\n",
       "    </tr>\n",
       "    <tr>\n",
       "      <th>30</th>\n",
       "      <td>0.691937</td>\n",
       "      <td>0.718394</td>\n",
       "    </tr>\n",
       "    <tr>\n",
       "      <th>20</th>\n",
       "      <td>0.691956</td>\n",
       "      <td>0.718394</td>\n",
       "    </tr>\n",
       "    <tr>\n",
       "      <th>71</th>\n",
       "      <td>0.721939</td>\n",
       "      <td>0.713491</td>\n",
       "    </tr>\n",
       "    <tr>\n",
       "      <th>60</th>\n",
       "      <td>0.712057</td>\n",
       "      <td>0.713187</td>\n",
       "    </tr>\n",
       "    <tr>\n",
       "      <th>41</th>\n",
       "      <td>0.702100</td>\n",
       "      <td>0.712781</td>\n",
       "    </tr>\n",
       "    <tr>\n",
       "      <th>55</th>\n",
       "      <td>0.697130</td>\n",
       "      <td>0.712781</td>\n",
       "    </tr>\n",
       "    <tr>\n",
       "      <th>57</th>\n",
       "      <td>0.703319</td>\n",
       "      <td>0.712680</td>\n",
       "    </tr>\n",
       "    <tr>\n",
       "      <th>49</th>\n",
       "      <td>0.704575</td>\n",
       "      <td>0.712680</td>\n",
       "    </tr>\n",
       "    <tr>\n",
       "      <th>50</th>\n",
       "      <td>0.700825</td>\n",
       "      <td>0.712680</td>\n",
       "    </tr>\n",
       "    <tr>\n",
       "      <th>74</th>\n",
       "      <td>0.715695</td>\n",
       "      <td>0.710533</td>\n",
       "    </tr>\n",
       "    <tr>\n",
       "      <th>75</th>\n",
       "      <td>0.720664</td>\n",
       "      <td>0.710431</td>\n",
       "    </tr>\n",
       "    <tr>\n",
       "      <th>21</th>\n",
       "      <td>0.699643</td>\n",
       "      <td>0.709924</td>\n",
       "    </tr>\n",
       "    <tr>\n",
       "      <th>48</th>\n",
       "      <td>0.697130</td>\n",
       "      <td>0.709822</td>\n",
       "    </tr>\n",
       "    <tr>\n",
       "      <th>42</th>\n",
       "      <td>0.698312</td>\n",
       "      <td>0.709822</td>\n",
       "    </tr>\n",
       "    <tr>\n",
       "      <th>31</th>\n",
       "      <td>0.698331</td>\n",
       "      <td>0.709822</td>\n",
       "    </tr>\n",
       "    <tr>\n",
       "      <th>40</th>\n",
       "      <td>0.698331</td>\n",
       "      <td>0.709822</td>\n",
       "    </tr>\n",
       "    <tr>\n",
       "      <th>77</th>\n",
       "      <td>0.718170</td>\n",
       "      <td>0.707574</td>\n",
       "    </tr>\n",
       "    <tr>\n",
       "      <th>73</th>\n",
       "      <td>0.712019</td>\n",
       "      <td>0.707270</td>\n",
       "    </tr>\n",
       "    <tr>\n",
       "      <th>9</th>\n",
       "      <td>0.689257</td>\n",
       "      <td>0.706357</td>\n",
       "    </tr>\n",
       "    <tr>\n",
       "      <th>54</th>\n",
       "      <td>0.715751</td>\n",
       "      <td>0.704615</td>\n",
       "    </tr>\n",
       "    <tr>\n",
       "      <th>...</th>\n",
       "      <td>...</td>\n",
       "      <td>...</td>\n",
       "    </tr>\n",
       "    <tr>\n",
       "      <th>26</th>\n",
       "      <td>0.627251</td>\n",
       "      <td>0.599138</td>\n",
       "    </tr>\n",
       "    <tr>\n",
       "      <th>43</th>\n",
       "      <td>0.637525</td>\n",
       "      <td>0.597092</td>\n",
       "    </tr>\n",
       "    <tr>\n",
       "      <th>3</th>\n",
       "      <td>0.588226</td>\n",
       "      <td>0.592595</td>\n",
       "    </tr>\n",
       "    <tr>\n",
       "      <th>14</th>\n",
       "      <td>0.588226</td>\n",
       "      <td>0.592595</td>\n",
       "    </tr>\n",
       "    <tr>\n",
       "      <th>51</th>\n",
       "      <td>0.637488</td>\n",
       "      <td>0.591175</td>\n",
       "    </tr>\n",
       "    <tr>\n",
       "      <th>37</th>\n",
       "      <td>0.624720</td>\n",
       "      <td>0.587811</td>\n",
       "    </tr>\n",
       "    <tr>\n",
       "      <th>45</th>\n",
       "      <td>0.635896</td>\n",
       "      <td>0.587506</td>\n",
       "    </tr>\n",
       "    <tr>\n",
       "      <th>24</th>\n",
       "      <td>0.595838</td>\n",
       "      <td>0.586881</td>\n",
       "    </tr>\n",
       "    <tr>\n",
       "      <th>34</th>\n",
       "      <td>0.637339</td>\n",
       "      <td>0.581893</td>\n",
       "    </tr>\n",
       "    <tr>\n",
       "      <th>27</th>\n",
       "      <td>0.630703</td>\n",
       "      <td>0.580575</td>\n",
       "    </tr>\n",
       "    <tr>\n",
       "      <th>4</th>\n",
       "      <td>0.626710</td>\n",
       "      <td>0.577312</td>\n",
       "    </tr>\n",
       "    <tr>\n",
       "      <th>16</th>\n",
       "      <td>0.626710</td>\n",
       "      <td>0.577312</td>\n",
       "    </tr>\n",
       "    <tr>\n",
       "      <th>15</th>\n",
       "      <td>0.626710</td>\n",
       "      <td>0.577312</td>\n",
       "    </tr>\n",
       "    <tr>\n",
       "      <th>25</th>\n",
       "      <td>0.626710</td>\n",
       "      <td>0.577312</td>\n",
       "    </tr>\n",
       "    <tr>\n",
       "      <th>29</th>\n",
       "      <td>0.567976</td>\n",
       "      <td>0.577295</td>\n",
       "    </tr>\n",
       "    <tr>\n",
       "      <th>19</th>\n",
       "      <td>0.551626</td>\n",
       "      <td>0.576585</td>\n",
       "    </tr>\n",
       "    <tr>\n",
       "      <th>38</th>\n",
       "      <td>0.567771</td>\n",
       "      <td>0.571276</td>\n",
       "    </tr>\n",
       "    <tr>\n",
       "      <th>8</th>\n",
       "      <td>0.551868</td>\n",
       "      <td>0.565664</td>\n",
       "    </tr>\n",
       "    <tr>\n",
       "      <th>28</th>\n",
       "      <td>0.516406</td>\n",
       "      <td>0.549637</td>\n",
       "    </tr>\n",
       "    <tr>\n",
       "      <th>18</th>\n",
       "      <td>0.526879</td>\n",
       "      <td>0.548030</td>\n",
       "    </tr>\n",
       "    <tr>\n",
       "      <th>6</th>\n",
       "      <td>0.526879</td>\n",
       "      <td>0.548030</td>\n",
       "    </tr>\n",
       "    <tr>\n",
       "      <th>17</th>\n",
       "      <td>0.534063</td>\n",
       "      <td>0.544768</td>\n",
       "    </tr>\n",
       "    <tr>\n",
       "      <th>23</th>\n",
       "      <td>0.537707</td>\n",
       "      <td>0.543922</td>\n",
       "    </tr>\n",
       "    <tr>\n",
       "      <th>11</th>\n",
       "      <td>0.537707</td>\n",
       "      <td>0.543922</td>\n",
       "    </tr>\n",
       "    <tr>\n",
       "      <th>12</th>\n",
       "      <td>0.503613</td>\n",
       "      <td>0.540592</td>\n",
       "    </tr>\n",
       "    <tr>\n",
       "      <th>5</th>\n",
       "      <td>0.517986</td>\n",
       "      <td>0.516128</td>\n",
       "    </tr>\n",
       "    <tr>\n",
       "      <th>13</th>\n",
       "      <td>0.536389</td>\n",
       "      <td>0.509112</td>\n",
       "    </tr>\n",
       "    <tr>\n",
       "      <th>1</th>\n",
       "      <td>0.536389</td>\n",
       "      <td>0.509112</td>\n",
       "    </tr>\n",
       "    <tr>\n",
       "      <th>2</th>\n",
       "      <td>0.500000</td>\n",
       "      <td>0.500000</td>\n",
       "    </tr>\n",
       "    <tr>\n",
       "      <th>7</th>\n",
       "      <td>0.500000</td>\n",
       "      <td>0.500000</td>\n",
       "    </tr>\n",
       "  </tbody>\n",
       "</table>\n",
       "<p>78 rows × 2 columns</p>\n",
       "</div>"
      ],
      "text/plain": [
       "    train_scores  test_scores\n",
       "39      0.689537     0.741961\n",
       "47      0.694543     0.733390\n",
       "65      0.713276     0.724818\n",
       "78      0.724414     0.721860\n",
       "76      0.723177     0.721860\n",
       "68      0.700862     0.721758\n",
       "62      0.703375     0.721758\n",
       "56      0.699606     0.721555\n",
       "69      0.719501     0.718800\n",
       "63      0.700862     0.718698\n",
       "30      0.691937     0.718394\n",
       "20      0.691956     0.718394\n",
       "71      0.721939     0.713491\n",
       "60      0.712057     0.713187\n",
       "41      0.702100     0.712781\n",
       "55      0.697130     0.712781\n",
       "57      0.703319     0.712680\n",
       "49      0.704575     0.712680\n",
       "50      0.700825     0.712680\n",
       "74      0.715695     0.710533\n",
       "75      0.720664     0.710431\n",
       "21      0.699643     0.709924\n",
       "48      0.697130     0.709822\n",
       "42      0.698312     0.709822\n",
       "31      0.698331     0.709822\n",
       "40      0.698331     0.709822\n",
       "77      0.718170     0.707574\n",
       "73      0.712019     0.707270\n",
       "9       0.689257     0.706357\n",
       "54      0.715751     0.704615\n",
       "..           ...          ...\n",
       "26      0.627251     0.599138\n",
       "43      0.637525     0.597092\n",
       "3       0.588226     0.592595\n",
       "14      0.588226     0.592595\n",
       "51      0.637488     0.591175\n",
       "37      0.624720     0.587811\n",
       "45      0.635896     0.587506\n",
       "24      0.595838     0.586881\n",
       "34      0.637339     0.581893\n",
       "27      0.630703     0.580575\n",
       "4       0.626710     0.577312\n",
       "16      0.626710     0.577312\n",
       "15      0.626710     0.577312\n",
       "25      0.626710     0.577312\n",
       "29      0.567976     0.577295\n",
       "19      0.551626     0.576585\n",
       "38      0.567771     0.571276\n",
       "8       0.551868     0.565664\n",
       "28      0.516406     0.549637\n",
       "18      0.526879     0.548030\n",
       "6       0.526879     0.548030\n",
       "17      0.534063     0.544768\n",
       "23      0.537707     0.543922\n",
       "11      0.537707     0.543922\n",
       "12      0.503613     0.540592\n",
       "5       0.517986     0.516128\n",
       "13      0.536389     0.509112\n",
       "1       0.536389     0.509112\n",
       "2       0.500000     0.500000\n",
       "7       0.500000     0.500000\n",
       "\n",
       "[78 rows x 2 columns]"
      ]
     },
     "execution_count": 26,
     "metadata": {},
     "output_type": "execute_result"
    }
   ],
   "source": [
    "# find the top 2 scores\n",
    "df_scores = pd.DataFrame()\n",
    "df_scores['train_scores'] = train_scores.values()\n",
    "df_scores['test_scores'] = test_scores.values()\n",
    "df_scores.index = feature_bag.keys()\n",
    "df_scores.sort_values(by='test_scores', ascending=False)"
   ]
  },
  {
   "cell_type": "code",
   "execution_count": 27,
   "metadata": {
    "collapsed": false,
    "scrolled": true
   },
   "outputs": [
    {
     "data": {
      "text/plain": [
       "['company_size',\n",
       " 'tech_company',\n",
       " 'enterprise_mh_benefit',\n",
       " 'enterprise_mh_options',\n",
       " 'enterprise_mh_emphasis',\n",
       " 'enterprise_offer_resources',\n",
       " 'anonymity_protection',\n",
       " 'mh_leave_request',\n",
       " 'family_history',\n",
       " 'gender',\n",
       " 'remote',\n",
       " 'age_class']"
      ]
     },
     "execution_count": 27,
     "metadata": {},
     "output_type": "execute_result"
    }
   ],
   "source": [
    "feature_bag[78]"
   ]
  },
  {
   "cell_type": "markdown",
   "metadata": {},
   "source": [
    "### ** feature group 78 was selected for both train_scores and test_scores have relative high values."
   ]
  },
  {
   "cell_type": "code",
   "execution_count": 28,
   "metadata": {
    "collapsed": false
   },
   "outputs": [],
   "source": [
    "cols = feature_bag[78]"
   ]
  },
  {
   "cell_type": "code",
   "execution_count": 29,
   "metadata": {
    "collapsed": false
   },
   "outputs": [],
   "source": [
    "data = relation[cols]\n",
    "data = pd.get_dummies(data, drop_first=True)\n",
    "X_train, X_test, y_train, y_test = train_test_split(data, y, test_size=0.3, random_state=123)"
   ]
  },
  {
   "cell_type": "code",
   "execution_count": 30,
   "metadata": {
    "collapsed": false
   },
   "outputs": [
    {
     "data": {
      "text/plain": [
       "0    175\n",
       "1    169\n",
       "Name: diagnosed, dtype: int64"
      ]
     },
     "execution_count": 30,
     "metadata": {},
     "output_type": "execute_result"
    }
   ],
   "source": [
    "y_test.value_counts()"
   ]
  },
  {
   "cell_type": "markdown",
   "metadata": {},
   "source": [
    "## Using GridSearchCV for parameter searching"
   ]
  },
  {
   "cell_type": "markdown",
   "metadata": {},
   "source": [
    "### 1. LogisticRegression with GridSearchCV"
   ]
  },
  {
   "cell_type": "code",
   "execution_count": 31,
   "metadata": {
    "collapsed": false,
    "scrolled": true
   },
   "outputs": [
    {
     "data": {
      "text/plain": [
       "GridSearchCV(cv=4, error_score='raise',\n",
       "       estimator=LogisticRegression(C=1.0, class_weight=None, dual=False, fit_intercept=True,\n",
       "          intercept_scaling=1, max_iter=100, multi_class='ovr', n_jobs=1,\n",
       "          penalty='l2', random_state=None, solver='liblinear', tol=0.0001,\n",
       "          verbose=0, warm_start=False),\n",
       "       fit_params=None, iid=True, n_jobs=1,\n",
       "       param_grid={'C': [1e-05, 0.0001, 0.001, 0.01, 0.1, 1, 10]},\n",
       "       pre_dispatch='2*n_jobs', refit=True, return_train_score='warn',\n",
       "       scoring='roc_auc', verbose=0)"
      ]
     },
     "execution_count": 31,
     "metadata": {},
     "output_type": "execute_result"
    }
   ],
   "source": [
    "\n",
    "param_grid = {'C': [1e-05, 0.0001, 0.001, 0.01, 0.1, 1, 10]}\n",
    "logreg = LogisticRegression()\n",
    "cv = GridSearchCV(logreg, param_grid=param_grid, cv=4, scoring='roc_auc')\n",
    "cv.fit(X_train, y_train)"
   ]
  },
  {
   "cell_type": "code",
   "execution_count": 32,
   "metadata": {
    "collapsed": false
   },
   "outputs": [
    {
     "name": "stdout",
     "output_type": "stream",
     "text": [
      "train accuracy score: 0.719451 | test accuracy score: 0.718023\n"
     ]
    }
   ],
   "source": [
    "print('train accuracy score: %f | test accuracy score: %f' % (accuracy_score(y_train, cv.predict(X_train)), accuracy_score(y_test, cv.predict(X_test))))"
   ]
  },
  {
   "cell_type": "code",
   "execution_count": 33,
   "metadata": {
    "collapsed": false
   },
   "outputs": [
    {
     "name": "stdout",
     "output_type": "stream",
     "text": [
      "train score: 0.779830 | test score: 0.778698\n"
     ]
    }
   ],
   "source": [
    "print('train score: %f | test score: %f' % (cv.score(X_train, y_train), cv.score(X_test, y_test)))"
   ]
  },
  {
   "cell_type": "code",
   "execution_count": 34,
   "metadata": {
    "collapsed": false,
    "scrolled": true
   },
   "outputs": [
    {
     "name": "stdout",
     "output_type": "stream",
     "text": [
      "best score: 0.765574 | best parameter: {'C': 0.01}\n"
     ]
    }
   ],
   "source": [
    "print('best score: %f | best parameter: %s' % (cv.best_score_, str(cv.best_params_)))"
   ]
  },
  {
   "cell_type": "code",
   "execution_count": 35,
   "metadata": {
    "collapsed": false,
    "scrolled": true
   },
   "outputs": [
    {
     "name": "stdout",
     "output_type": "stream",
     "text": [
      "{'mean_fit_time': array([ 0.00334918,  0.00353062,  0.003815  ,  0.00411701,  0.00353497,\n",
      "        0.00495005,  0.00493443]), 'std_fit_time': array([ 0.00028092,  0.0005466 ,  0.00106799,  0.00132964,  0.00022382,\n",
      "        0.00091244,  0.00070872]), 'mean_score_time': array([ 0.00142425,  0.00104088,  0.00110763,  0.0012337 ,  0.00106359,\n",
      "        0.00105786,  0.00093836]), 'std_score_time': array([ 0.00036502,  0.00020458,  0.00019605,  0.00075221,  0.00024987,\n",
      "        0.00019361,  0.00029214]), 'param_C': masked_array(data = [1e-05 0.0001 0.001 0.01 0.1 1 10],\n",
      "             mask = [False False False False False False False],\n",
      "       fill_value = ?)\n",
      ", 'params': [{'C': 1e-05}, {'C': 0.0001}, {'C': 0.001}, {'C': 0.01}, {'C': 0.1}, {'C': 1}, {'C': 10}], 'split0_test_score': array([ 0.78643564,  0.78643564,  0.78584158,  0.78346535,  0.77851485,\n",
      "        0.77366337,  0.77485149]), 'split1_test_score': array([ 0.71831683,  0.71831683,  0.71742574,  0.71742574,  0.7060396 ,\n",
      "        0.69217822,  0.6870297 ]), 'split2_test_score': array([ 0.75447545,  0.75447545,  0.75577558,  0.76057606,  0.76027603,\n",
      "        0.75737574,  0.75957596]), 'split3_test_score': array([ 0.80258026,  0.80258026,  0.80208021,  0.8009801 ,  0.78927893,\n",
      "        0.7759776 ,  0.76917692]), 'mean_test_score': array([ 0.76541944,  0.76541944,  0.76524675,  0.76557399,  0.75848683,\n",
      "        0.74975664,  0.74761683]), 'std_test_score': array([ 0.03226424,  0.03226424,  0.03225119,  0.03130622,  0.03204947,\n",
      "        0.03405961,  0.0354608 ]), 'rank_test_score': array([2, 2, 4, 1, 5, 6, 7], dtype=int32), 'split0_train_score': array([ 0.77145215,  0.77145215,  0.77219417,  0.77626974,  0.78230558,\n",
      "        0.78540656,  0.78552839]), 'split1_train_score': array([ 0.79648149,  0.79650364,  0.79731211,  0.80055707,  0.8084535 ,\n",
      "        0.8155636 ,  0.81775644]), 'split2_train_score': array([ 0.77960639,  0.77960639,  0.78013621,  0.78274115,  0.78712319,\n",
      "        0.79098646,  0.79093127]), 'split3_train_score': array([ 0.76483769,  0.7648708 ,  0.76541166,  0.7705222 ,  0.7789993 ,\n",
      "        0.78522468,  0.78663753]), 'mean_train_score': array([ 0.77809443,  0.77810824,  0.77876354,  0.78252254,  0.78922039,\n",
      "        0.79429532,  0.7952134 ]), 'std_train_score': array([ 0.0118346 ,  0.01183394,  0.01190969,  0.01127384,  0.01147384,\n",
      "        0.01249575,  0.01317071])}\n"
     ]
    }
   ],
   "source": [
    "print(cv.cv_results_)"
   ]
  },
  {
   "cell_type": "code",
   "execution_count": 36,
   "metadata": {
    "collapsed": false
   },
   "outputs": [
    {
     "name": "stdout",
     "output_type": "stream",
     "text": [
      "train score: 0.719501 | test score: 0.719104\n"
     ]
    }
   ],
   "source": [
    "logreg1 = LogisticRegression(C=0.01)\n",
    "logreg1.fit(X_train, y_train)\n",
    "print('train score: %f | test score: %f' % (roc_auc_score(y_train, logreg1.predict(X_train)), roc_auc_score(y_test, logreg1.predict(X_test))))"
   ]
  },
  {
   "cell_type": "code",
   "execution_count": 37,
   "metadata": {
    "collapsed": false
   },
   "outputs": [
    {
     "name": "stdout",
     "output_type": "stream",
     "text": [
      "train accuracy score: 0.719451 | test accuracy score: 0.718023\n"
     ]
    }
   ],
   "source": [
    "print('train accuracy score: %f | test accuracy score: %f' % (accuracy_score(y_train, logreg1.predict(X_train)), accuracy_score(y_test, logreg1.predict(X_test))))"
   ]
  },
  {
   "cell_type": "markdown",
   "metadata": {},
   "source": [
    "### 2. SVC with GridSearchCV"
   ]
  },
  {
   "cell_type": "code",
   "execution_count": 38,
   "metadata": {
    "collapsed": false
   },
   "outputs": [],
   "source": [
    "params = {'C': np.logspace(-4, 3, 8)}\n",
    "svc = SVC()\n",
    "cv = GridSearchCV(svc, param_grid=params, cv=4, scoring='roc_auc')"
   ]
  },
  {
   "cell_type": "code",
   "execution_count": 39,
   "metadata": {
    "collapsed": false
   },
   "outputs": [
    {
     "data": {
      "text/plain": [
       "GridSearchCV(cv=4, error_score='raise',\n",
       "       estimator=SVC(C=1.0, cache_size=200, class_weight=None, coef0=0.0,\n",
       "  decision_function_shape='ovr', degree=3, gamma='auto', kernel='rbf',\n",
       "  max_iter=-1, probability=False, random_state=None, shrinking=True,\n",
       "  tol=0.001, verbose=False),\n",
       "       fit_params=None, iid=True, n_jobs=1,\n",
       "       param_grid={'C': array([  1.00000e-04,   1.00000e-03,   1.00000e-02,   1.00000e-01,\n",
       "         1.00000e+00,   1.00000e+01,   1.00000e+02,   1.00000e+03])},\n",
       "       pre_dispatch='2*n_jobs', refit=True, return_train_score='warn',\n",
       "       scoring='roc_auc', verbose=0)"
      ]
     },
     "execution_count": 39,
     "metadata": {},
     "output_type": "execute_result"
    }
   ],
   "source": [
    "cv.fit(X_train, y_train)"
   ]
  },
  {
   "cell_type": "code",
   "execution_count": 40,
   "metadata": {
    "collapsed": false
   },
   "outputs": [
    {
     "name": "stdout",
     "output_type": "stream",
     "text": [
      "train score: 0.780303 | test score: 0.776061\n"
     ]
    }
   ],
   "source": [
    "print('train score: %f | test score: %f' % (cv.score(X_train, y_train), cv.score(X_test, y_test)))"
   ]
  },
  {
   "cell_type": "code",
   "execution_count": 41,
   "metadata": {
    "collapsed": false
   },
   "outputs": [
    {
     "name": "stdout",
     "output_type": "stream",
     "text": [
      "best score: 0.768706 | best parameter: {'C': 0.10000000000000001}\n"
     ]
    }
   ],
   "source": [
    "print('best score: %f | best parameter: %s' % (cv.best_score_, str(cv.best_params_)))"
   ]
  },
  {
   "cell_type": "code",
   "execution_count": 42,
   "metadata": {
    "collapsed": false
   },
   "outputs": [
    {
     "name": "stdout",
     "output_type": "stream",
     "text": [
      "[[116  59]\n",
      " [ 40 129]]\n"
     ]
    }
   ],
   "source": [
    "print(confusion_matrix(y_test, cv.predict(X_test)))"
   ]
  },
  {
   "cell_type": "code",
   "execution_count": 43,
   "metadata": {
    "collapsed": false
   },
   "outputs": [
    {
     "data": {
      "text/plain": [
       "SVC(C=0.1, cache_size=200, class_weight=None, coef0=0.0,\n",
       "  decision_function_shape='ovr', degree=3, gamma='auto', kernel='rbf',\n",
       "  max_iter=-1, probability=False, random_state=None, shrinking=True,\n",
       "  tol=0.001, verbose=False)"
      ]
     },
     "execution_count": 43,
     "metadata": {},
     "output_type": "execute_result"
    }
   ],
   "source": [
    "svc = SVC(C=0.1)\n",
    "svc.fit(X_train, y_train)"
   ]
  },
  {
   "cell_type": "code",
   "execution_count": 44,
   "metadata": {
    "collapsed": false
   },
   "outputs": [
    {
     "name": "stdout",
     "output_type": "stream",
     "text": [
      "train score: 0.712075 | test score: 0.713085\n"
     ]
    }
   ],
   "source": [
    "print('train score: %f | test score: %f' % (roc_auc_score(y_train, svc.predict(X_train)), roc_auc_score(y_test, svc.predict(X_test))))"
   ]
  },
  {
   "cell_type": "code",
   "execution_count": 45,
   "metadata": {
    "collapsed": false
   },
   "outputs": [
    {
     "name": "stdout",
     "output_type": "stream",
     "text": [
      "             precision    recall  f1-score   support\n",
      "\n",
      "          0       0.74      0.66      0.70       175\n",
      "          1       0.69      0.76      0.72       169\n",
      "\n",
      "avg / total       0.72      0.71      0.71       344\n",
      "\n"
     ]
    }
   ],
   "source": [
    "print(classification_report(y_test, svc.predict(X_test)))"
   ]
  },
  {
   "cell_type": "code",
   "execution_count": 46,
   "metadata": {
    "collapsed": false
   },
   "outputs": [
    {
     "name": "stdout",
     "output_type": "stream",
     "text": [
      "[[116  59]\n",
      " [ 40 129]]\n"
     ]
    }
   ],
   "source": [
    "print(confusion_matrix(y_test, svc.predict(X_test)))"
   ]
  },
  {
   "cell_type": "markdown",
   "metadata": {},
   "source": [
    "### 3. GradientBoostingClassifier with GridSearchCV"
   ]
  },
  {
   "cell_type": "code",
   "execution_count": 47,
   "metadata": {
    "collapsed": false
   },
   "outputs": [
    {
     "data": {
      "text/plain": [
       "GridSearchCV(cv=5, error_score='raise',\n",
       "       estimator=GradientBoostingClassifier(criterion='friedman_mse', init=None,\n",
       "              learning_rate=0.1, loss='deviance', max_depth=3,\n",
       "              max_features=None, max_leaf_nodes=None,\n",
       "              min_impurity_decrease=0.0, min_impurity_split=None,\n",
       "              min_samples_leaf=1, min_samples_split=2,\n",
       "              min_weight_fraction_leaf=0.0, n_estimators=100,\n",
       "              presort='auto', random_state=None, subsample=1.0, verbose=0,\n",
       "              warm_start=False),\n",
       "       fit_params=None, iid=True, n_jobs=1,\n",
       "       param_grid={'n_estimators': range(10, 300, 10), 'learning_rate': (0.0001, 0.001, 0.01, 0.1, 0.15, 0.2)},\n",
       "       pre_dispatch='2*n_jobs', refit=True, return_train_score='warn',\n",
       "       scoring='roc_auc', verbose=0)"
      ]
     },
     "execution_count": 47,
     "metadata": {},
     "output_type": "execute_result"
    }
   ],
   "source": [
    "params = {'n_estimators': range(10,300,10), 'learning_rate': (0.0001, 0.001, 0.01, 0.1, 0.15, 0.2)}\n",
    "gbc = GradientBoostingClassifier()\n",
    "cv = GridSearchCV(gbc, param_grid=params, cv=5, scoring='roc_auc')\n",
    "cv.fit(X_train, y_train)"
   ]
  },
  {
   "cell_type": "code",
   "execution_count": 48,
   "metadata": {
    "collapsed": false
   },
   "outputs": [
    {
     "name": "stdout",
     "output_type": "stream",
     "text": [
      "train score: 0.838279 | test score: 0.745309\n"
     ]
    }
   ],
   "source": [
    "print('train score: %f | test score: %f' % (cv.score(X_train, y_train), cv.score(X_test, y_test)))"
   ]
  },
  {
   "cell_type": "code",
   "execution_count": 49,
   "metadata": {
    "collapsed": false
   },
   "outputs": [
    {
     "name": "stdout",
     "output_type": "stream",
     "text": [
      "best score: 0.757834 | best parameter: {'learning_rate': 0.1, 'n_estimators': 40}\n"
     ]
    }
   ],
   "source": [
    "print('best score: %f | best parameter: %s' % (cv.best_score_, str(cv.best_params_)))"
   ]
  },
  {
   "cell_type": "code",
   "execution_count": 50,
   "metadata": {
    "collapsed": false
   },
   "outputs": [
    {
     "data": {
      "text/plain": [
       "GradientBoostingClassifier(criterion='friedman_mse', init=None,\n",
       "              learning_rate=0.1, loss='deviance', max_depth=3,\n",
       "              max_features=None, max_leaf_nodes=None,\n",
       "              min_impurity_decrease=0.0, min_impurity_split=None,\n",
       "              min_samples_leaf=1, min_samples_split=2,\n",
       "              min_weight_fraction_leaf=0.0, n_estimators=40,\n",
       "              presort='auto', random_state=None, subsample=1.0, verbose=0,\n",
       "              warm_start=False)"
      ]
     },
     "execution_count": 50,
     "metadata": {},
     "output_type": "execute_result"
    }
   ],
   "source": [
    "gbc1 = GradientBoostingClassifier(learning_rate=0.1, n_estimators=40)\n",
    "gbc1.fit(X_train, y_train)"
   ]
  },
  {
   "cell_type": "code",
   "execution_count": 51,
   "metadata": {
    "collapsed": false
   },
   "outputs": [
    {
     "name": "stdout",
     "output_type": "stream",
     "text": [
      "train score: 0.757096 | test score: 0.681961\n"
     ]
    }
   ],
   "source": [
    "print('train score: %f | test score: %f' % (roc_auc_score(y_train, gbc1.predict(X_train)), roc_auc_score(y_test, gbc1.predict(X_test))))"
   ]
  },
  {
   "cell_type": "markdown",
   "metadata": {},
   "source": [
    "### 4. Simple Neural Network Classification"
   ]
  },
  {
   "cell_type": "code",
   "execution_count": 52,
   "metadata": {
    "collapsed": false
   },
   "outputs": [
    {
     "name": "stdout",
     "output_type": "stream",
     "text": [
      "best alpha is 0.000010 |hidden_layer_size (8, 2) \n",
      "best test score: 0.716855\n",
      "\n"
     ]
    }
   ],
   "source": [
    "alphas = np.logspace(-8, 0, 9)\n",
    "hidden_layer_sizes = [(10, 2), (9, 2), (8, 2), (7, 2), (6, 2), (5, 2)]\n",
    "best_score = 0\n",
    "best_alpha = 0\n",
    "best_hidden_layer_size = (0, 0)\n",
    "for hidden_layer in hidden_layer_sizes:\n",
    "    for alpha in alphas:\n",
    "        clf = MLPClassifier(solver='lbfgs', activation='logistic', alpha=alpha, hidden_layer_sizes=hidden_layer, random_state=1)\n",
    "        clf.fit(X_train, y_train)\n",
    "        score = roc_auc_score(y_test, clf.predict(X_test))\n",
    "        if best_score < score:\n",
    "            best_score = score\n",
    "            best_alpha = alpha\n",
    "            best_hidden_layer_size = hidden_layer\n",
    "print('best alpha is %f |hidden_layer_size %s ' % (best_alpha, best_hidden_layer_size))\n",
    "print('best test score: %f\\n' % (best_score))\n",
    "# param_grid = {'alpha': np.logspace(-5, 3, 9)}\n",
    "# cv = GridSearchCV(clf, param_grid=param_grid, cv=4, scoring='roc_auc')"
   ]
  },
  {
   "cell_type": "markdown",
   "metadata": {},
   "source": [
    "### ** the best test score is 0.716855, the parameters is alpha e1-05, hidden_layer_sizes (8, 2)"
   ]
  },
  {
   "cell_type": "markdown",
   "metadata": {},
   "source": [
    "## Ensemble model"
   ]
  },
  {
   "cell_type": "code",
   "execution_count": 53,
   "metadata": {
    "collapsed": true
   },
   "outputs": [],
   "source": [
    "\n",
    "def model_fit_prediction(X_train, y_train, X_test):\n",
    "    logreg = LogisticRegression(C=0.01)\n",
    "    svc = SVC(C=0.1, probability=True)\n",
    "    gbc = GradientBoostingClassifier(learning_rate=0.1, n_estimators=40)\n",
    "    mlp = MLPClassifier(solver='lbfgs', activation='logistic', alpha=0.00001, hidden_layer_sizes=(8, 2), random_state=1)\n",
    "    # fit models\n",
    "    logreg.fit(X_train, y_train)\n",
    "    svc.fit(X_train, y_train)\n",
    "    gbc.fit(X_train, y_train)\n",
    "    mlp.fit(X_train, y_train)\n",
    "    # prediction\n",
    "    prediction = pd.DataFrame()\n",
    "    prediction['logreg'] = pd.Series(logreg.predict_proba(X_test)[:, 1])\n",
    "    prediction['svc'] = pd.Series(svc.predict_proba(X_test)[:, 1])\n",
    "    prediction['gbc'] = pd.Series(gbc.predict_proba(X_test)[:, 1])\n",
    "    prediction['mlp'] = pd.Series(mlp.predict_proba(X_test)[:, 1])\n",
    "\n",
    "    predict = []\n",
    "    for key, row in prediction.iterrows():\n",
    "        l = row['logreg']\n",
    "        s = row['svc']\n",
    "        g = row['gbc']\n",
    "        m = row['mlp']\n",
    "        count = 0\n",
    "        if l >=0.5: count += 1\n",
    "        if s >= 0.5: count += 1\n",
    "        if g >= 0.5: count += 1\n",
    "        if m >= 0.5: count += 1\n",
    "        if count >= 3: predict.append(1)\n",
    "        else: predict.append(0)\n",
    "    prediction['pred'] = predict       \n",
    "    return prediction['pred']\n",
    "    "
   ]
  },
  {
   "cell_type": "code",
   "execution_count": 54,
   "metadata": {
    "collapsed": false
   },
   "outputs": [],
   "source": [
    "y_pred = model_fit_prediction(X_train, y_train, X_test)"
   ]
  },
  {
   "cell_type": "code",
   "execution_count": 55,
   "metadata": {
    "collapsed": false
   },
   "outputs": [
    {
     "name": "stdout",
     "output_type": "stream",
     "text": [
      "train score: 0.741909 | test score: 0.715943\n"
     ]
    }
   ],
   "source": [
    "print('train score: %f | test score: %f' % (roc_auc_score(y_train, model_fit_prediction(X_train, y_train, X_train)), roc_auc_score(y_test, y_pred)))"
   ]
  },
  {
   "cell_type": "markdown",
   "metadata": {},
   "source": [
    "** from above, single model train score(roc_auc_score): logreg: 0.719501; svc: 0.712075; gbc: 0.757096;"
   ]
  },
  {
   "cell_type": "markdown",
   "metadata": {},
   "source": [
    "** from above, single model test score(roc_auc_score): logreg: 0.719104; svc: 0.713085; gbc: 0.681961  mlp: 0.716855"
   ]
  },
  {
   "cell_type": "code",
   "execution_count": 56,
   "metadata": {
    "collapsed": false
   },
   "outputs": [
    {
     "name": "stdout",
     "output_type": "stream",
     "text": [
      "Accuracy score: train 0.741895 | test 0.715116\n"
     ]
    }
   ],
   "source": [
    "print('Accuracy score: train %f | test %f' % (accuracy_score(y_train, model_fit_prediction(X_train, y_train, X_train)), accuracy_score(y_test, y_pred)))"
   ]
  },
  {
   "cell_type": "code",
   "execution_count": 57,
   "metadata": {
    "collapsed": false,
    "scrolled": true
   },
   "outputs": [
    {
     "name": "stdout",
     "output_type": "stream",
     "text": [
      "             precision    recall  f1-score   support\n",
      "\n",
      "          0       0.75      0.67      0.70       175\n",
      "          1       0.69      0.76      0.72       169\n",
      "\n",
      "avg / total       0.72      0.72      0.71       344\n",
      "\n"
     ]
    }
   ],
   "source": [
    "print(classification_report(y_test, y_pred))"
   ]
  },
  {
   "cell_type": "code",
   "execution_count": 58,
   "metadata": {
    "collapsed": false,
    "scrolled": true
   },
   "outputs": [
    {
     "name": "stdout",
     "output_type": "stream",
     "text": [
      "[[117  58]\n",
      " [ 40 129]]\n"
     ]
    }
   ],
   "source": [
    "print(confusion_matrix(y_test, y_pred))"
   ]
  },
  {
   "cell_type": "markdown",
   "metadata": {},
   "source": [
    "## Using Auto-Sklearn Classifier"
   ]
  },
  {
   "cell_type": "code",
   "execution_count": 59,
   "metadata": {
    "collapsed": true
   },
   "outputs": [],
   "source": [
    "import autosklearn.classification"
   ]
  },
  {
   "cell_type": "code",
   "execution_count": 60,
   "metadata": {
    "collapsed": false
   },
   "outputs": [
    {
     "name": "stdout",
     "output_type": "stream",
     "text": [
      "[WARNING] [2018-03-21 10:50:53,557:smac.intensification.intensification.Intensifier] Challenger was the same as the current incumbent; Skipping challenger\n",
      "[WARNING] [2018-03-21 10:50:53,557:smac.intensification.intensification.Intensifier] Challenger was the same as the current incumbent; Skipping challenger\n"
     ]
    }
   ],
   "source": [
    "clf = autosklearn.classification.AutoSklearnClassifier()\n",
    "clf.fit(X_train, y_train)"
   ]
  },
  {
   "cell_type": "code",
   "execution_count": 61,
   "metadata": {
    "collapsed": true
   },
   "outputs": [],
   "source": [
    "y_pred = clf.predict(X_test)"
   ]
  },
  {
   "cell_type": "code",
   "execution_count": 62,
   "metadata": {
    "collapsed": false
   },
   "outputs": [
    {
     "name": "stdout",
     "output_type": "stream",
     "text": [
      "[[111  64]\n",
      " [ 33 136]]\n"
     ]
    }
   ],
   "source": [
    "print(confusion_matrix(y_test, y_pred))\n"
   ]
  },
  {
   "cell_type": "code",
   "execution_count": 63,
   "metadata": {
    "collapsed": false,
    "scrolled": true
   },
   "outputs": [
    {
     "name": "stdout",
     "output_type": "stream",
     "text": [
      "train score: 0.7670904025075874\n",
      "test score: 0.7195097210481827\n"
     ]
    }
   ],
   "source": [
    "print('train score: {}'.format(roc_auc_score(y_train, clf.predict(X_train))))\n",
    "print('test score: {}'.format(roc_auc_score(y_test, y_pred)))"
   ]
  },
  {
   "cell_type": "code",
   "execution_count": 64,
   "metadata": {
    "collapsed": false
   },
   "outputs": [
    {
     "data": {
      "text/plain": [
       "AutoSklearnClassifier(delete_output_folder_after_terminate=True,\n",
       "           delete_tmp_folder_after_terminate=True,\n",
       "           disable_evaluator_output=False, ensemble_nbest=50,\n",
       "           ensemble_size=50, exclude_estimators=None,\n",
       "           exclude_preprocessors=None, get_smac_object_callback=None,\n",
       "           include_estimators=None, include_preprocessors=None,\n",
       "           initial_configurations_via_metalearning=25,\n",
       "           ml_memory_limit=3072, output_folder=None,\n",
       "           per_run_time_limit=360, resampling_strategy='holdout',\n",
       "           resampling_strategy_arguments=None, seed=1, shared_mode=False,\n",
       "           smac_scenario_args=None, time_left_for_this_task=3600,\n",
       "           tmp_folder=None)"
      ]
     },
     "execution_count": 64,
     "metadata": {},
     "output_type": "execute_result"
    }
   ],
   "source": [
    "clf"
   ]
  },
  {
   "cell_type": "code",
   "execution_count": 65,
   "metadata": {
    "collapsed": false
   },
   "outputs": [
    {
     "name": "stdout",
     "output_type": "stream",
     "text": [
      "accuracy score: train 0.766833 | test 0.718023\n"
     ]
    }
   ],
   "source": [
    "print('accuracy score: train %f | test %f' % (accuracy_score(y_train, clf.predict(X_train)), accuracy_score(y_test, y_pred)))"
   ]
  },
  {
   "cell_type": "code",
   "execution_count": 66,
   "metadata": {
    "collapsed": false
   },
   "outputs": [
    {
     "name": "stdout",
     "output_type": "stream",
     "text": [
      "             precision    recall  f1-score   support\n",
      "\n",
      "          0       0.77      0.63      0.70       175\n",
      "          1       0.68      0.80      0.74       169\n",
      "\n",
      "avg / total       0.73      0.72      0.72       344\n",
      "\n"
     ]
    }
   ],
   "source": [
    "print(classification_report(y_test, y_pred))"
   ]
  },
  {
   "cell_type": "markdown",
   "metadata": {
    "collapsed": true
   },
   "source": [
    "## Conclusion:\n",
    "    By using answers of 12 questions, we can predict the person's mental health. I tried six classification algorithms, and tuned four methods with best parameters. Finally, I used an ensemble of these four models to do my prediction, and the average precision is 0.72. I also tried the auto-sklearn classifier to do a better ensemble classification models search, which has a little bit better roc-auc socre."
   ]
  },
  {
   "cell_type": "code",
   "execution_count": null,
   "metadata": {
    "collapsed": true
   },
   "outputs": [],
   "source": []
  }
 ],
 "metadata": {
  "celltoolbar": "Raw Cell Format",
  "kernelspec": {
   "display_name": "Python 3",
   "language": "python",
   "name": "python3"
  },
  "language_info": {
   "codemirror_mode": {
    "name": "ipython",
    "version": 3
   },
   "file_extension": ".py",
   "mimetype": "text/x-python",
   "name": "python",
   "nbconvert_exporter": "python",
   "pygments_lexer": "ipython3",
   "version": "3.6.0"
  }
 },
 "nbformat": 4,
 "nbformat_minor": 2
}
